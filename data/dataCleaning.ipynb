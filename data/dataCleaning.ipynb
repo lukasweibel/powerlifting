{
 "cells": [
  {
   "cell_type": "code",
   "execution_count": 3,
   "metadata": {},
   "outputs": [
    {
     "name": "stderr",
     "output_type": "stream",
     "text": [
      "/var/folders/w_/nwmjl6bj199dd3vl9vkddqwc0000gn/T/ipykernel_22830/2290261492.py:6: DtypeWarning: Columns (33,35,38) have mixed types. Specify dtype option on import or set low_memory=False.\n",
      "  df = pd.read_csv(csv_file_path)\n",
      "/var/folders/w_/nwmjl6bj199dd3vl9vkddqwc0000gn/T/ipykernel_22830/2290261492.py:8: FutureWarning: Downcasting behavior in `replace` is deprecated and will be removed in a future version. To retain the old behavior, explicitly call `result.infer_objects(copy=False)`. To opt-in to the future behavior, set `pd.set_option('future.no_silent_downcasting', True)`\n",
      "  df['Sex'] = df['Sex'].replace({'F': 1, 'M': 0, 'Mx': 2})\n"
     ]
    }
   ],
   "source": [
    "import pandas as pd\n",
    "\n",
    "csv_file_path = 'openpowerlifting-2024-04-20-4c19bc9c.csv'\n",
    "new_csv_file_path = 'powerlifting.csv'\n",
    "\n",
    "df = pd.read_csv(csv_file_path)\n",
    "\n",
    "df['Sex'] = df['Sex'].replace({'F': 1, 'M': 0, 'Mx': 2})\n",
    "\n",
    "df['Equipment'] = df['Equipment'].replace({'Wraps': 1, 'Raw': 0, 'Single-ply': 2, 'Multi-ply': 3, 'Unlimited': 4})\n",
    "\n",
    "df = df[pd.to_numeric(df['Equipment'], errors='coerce').notna()]\n",
    "\n",
    "#df.dropna(inplace=True)\n",
    "df.dropna(subset=['Best3SquatKg'], inplace=True)\n",
    "\n",
    "df.dropna(subset=['Age'], inplace=True)\n",
    "\n",
    "df.dropna(subset=['Sex'], inplace=True)\n",
    "\n",
    "df.dropna(subset=['BodyweightKg'], inplace=True)\n",
    "\n",
    "df = df.tail(100000)\n",
    "\n",
    "df.to_csv(new_csv_file_path, index=False, sep=',', columns=['Sex', 'Equipment', 'Age', 'BodyweightKg', 'Best3SquatKg'], encoding='utf-8')"
   ]
  }
 ],
 "metadata": {
  "kernelspec": {
   "display_name": "Python 3",
   "language": "python",
   "name": "python3"
  },
  "language_info": {
   "codemirror_mode": {
    "name": "ipython",
    "version": 3
   },
   "file_extension": ".py",
   "mimetype": "text/x-python",
   "name": "python",
   "nbconvert_exporter": "python",
   "pygments_lexer": "ipython3",
   "version": "3.11.7"
  }
 },
 "nbformat": 4,
 "nbformat_minor": 2
}
